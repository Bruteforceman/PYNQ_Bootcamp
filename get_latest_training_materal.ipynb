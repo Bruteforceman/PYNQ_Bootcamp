{
 "cells": [
  {
   "cell_type": "markdown",
   "metadata": {},
   "source": [
    "### Get the latest training material\n",
    "<div class=\"alert alert-box alert-warning\">\n",
    "<b>PYNQ BootCamp2022 Edition <br>\n",
    "Please run the below bash cell to get the latest version of the PYNQ Bootcamp materials    \n",
    "</div>"
   ]
  },
  {
   "cell_type": "code",
   "execution_count": 3,
   "metadata": {},
   "outputs": [],
   "source": [
    "%%bash\n",
    "git pull\n",
    "\n",
    "#install PYNQ Bootcamp specific sensor drivers\n",
    "cp -r extra/grove_barometer /usr/local/lib/python3.6/dist-packages/pynq_peripherals/modules/\n",
    "cp -r extra/grove_envsensor /usr/local/lib/python3.6/dist-packages/pynq_peripherals/modules/\n",
    "cp -r extra/grove_sunlight /usr/local/lib/python3.6/dist-packages/pynq_peripherals/modules/"
   ]
  }
 ],
 "metadata": {
  "kernelspec": {
   "display_name": "Python 3",
   "language": "python",
   "name": "python3"
  },
  "language_info": {
   "codemirror_mode": {
    "name": "ipython",
    "version": 3
   },
   "file_extension": ".py",
   "mimetype": "text/x-python",
   "name": "python",
   "nbconvert_exporter": "python",
   "pygments_lexer": "ipython3",
   "version": "3.6.5"
  }
 },
 "nbformat": 4,
 "nbformat_minor": 2
}
