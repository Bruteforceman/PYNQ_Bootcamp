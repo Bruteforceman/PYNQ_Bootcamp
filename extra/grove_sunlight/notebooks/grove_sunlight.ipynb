{
 "cells": [
  {
   "cell_type": "markdown",
   "metadata": {},
   "source": [
    "# Grove I2C Si1151 Sunlight Sensor "
   ]
  },
  {
   "cell_type": "markdown",
   "metadata": {},
   "source": [
    "## Aim\n",
    "\n",
    "* This notebook illustrates how to use available APIs for the Si1151 I2C Sunlight Sensor with grove adaptor on PYNQ-Z2 PMOD py_interfaces.\n",
    "\n",
    "\n",
    "### References\n",
    "* [Seeed Sunlight Sensor](https://www.seeedstudio.com/Grove-Sunlight-Sensor.html?queryID=2a3fb0835481f25c58acbcf555a07690&objectID=614&indexName=bazaar_retailer_products)    \n",
    "* [PYNQ Grove Adapter](https://store.digilentinc.com/pynq-grove-system-add-on-board/)    \n",
    "\n",
    "### Last revised\n",
    "* 26 July 2022\n",
    "    + Initial version\n"
   ]
  },
  {
   "cell_type": "markdown",
   "metadata": {},
   "source": [
    "## Si1151 Sunlight Sensor: \n",
    "* Si1151 Sunlight Sensor is a multi-channel digital light sensor capable of detecting UV, visible, and infrared light. It performs well in a wide dynamic range and with a variety of light sources, including direct sunlight. Ideal for weather stations and smart irrigation projects.\n",
    "\n",
    "|     |     |\n",
    "| --- | --- |\n",
    "| <img src=\"../images/sunlight_front.jpg\" width=\"300\"/>  | <img src=\"../images/sunlight_back.jpg\" width=\"300\"/>  |\n",
    "\n",
    "\n",
    "* #### **UV Index**\n",
    "     * The ultraviolet index, or UV index, is an international standard measurement of the strength of the sunburn-producing ultraviolet (UV) radiation at a particular place and time.\n",
    "     * <img src=\"../images/uv index.png\" width=\"90%\" align=\"centre\" />\n",
    "\n",
    "\n",
    "* #### **Spectrum**\n",
    "     * The electromagnetic spectrum is the range of frequencies of electromagnetic radiation and their respective wavelengths and photon energies.\n",
    "     * <img src=\"../images/spectrum.png\" width=\"70%\" align=\"left\" />\n",
    "\n"
   ]
  },
  {
   "cell_type": "markdown",
   "metadata": {},
   "source": [
    "\n",
    "## Using Grove I2C Sunlight Sensor with PYNQ Grove Adapter (PMOD)"
   ]
  },
  {
   "cell_type": "markdown",
   "metadata": {},
   "source": [
    "### Install Driver for grove_barometer"
   ]
  },
  {
   "cell_type": "code",
   "execution_count": 3,
   "metadata": {},
   "outputs": [],
   "source": [
    "%%bash\n",
    "cp -r ../../grove_sunlight /usr/local/lib/python3.6/dist-packages/pynq_peripherals/modules/"
   ]
  },
  {
   "cell_type": "markdown",
   "metadata": {},
   "source": [
    "###  Load Base Overlay\n",
    "\n",
    "Our PYNQ Board has a Field Programmable Gate Array (FPGA) on it that must be programmed before we begin using the board. We apply designs called overlays that we can design however we want by importing the pre-build base overlay."
   ]
  },
  {
   "cell_type": "code",
   "execution_count": 4,
   "metadata": {},
   "outputs": [
    {
     "data": {
      "application/javascript": [
       "\n",
       "try {\n",
       "require(['notebook/js/codecell'], function(codecell) {\n",
       "  codecell.CodeCell.options_default.highlight_modes[\n",
       "      'magic_text/x-csrc'] = {'reg':[/^%%microblaze/]};\n",
       "  Jupyter.notebook.events.one('kernel_ready.Kernel', function(){\n",
       "      Jupyter.notebook.get_cells().map(function(cell){\n",
       "          if (cell.cell_type == 'code'){ cell.auto_highlight(); } }) ;\n",
       "  });\n",
       "});\n",
       "} catch (e) {};\n"
      ]
     },
     "metadata": {},
     "output_type": "display_data"
    },
    {
     "data": {
      "application/javascript": [
       "\n",
       "try {\n",
       "require(['notebook/js/codecell'], function(codecell) {\n",
       "  codecell.CodeCell.options_default.highlight_modes[\n",
       "      'magic_text/x-csrc'] = {'reg':[/^%%pybind11/]};\n",
       "  Jupyter.notebook.events.one('kernel_ready.Kernel', function(){\n",
       "      Jupyter.notebook.get_cells().map(function(cell){\n",
       "          if (cell.cell_type == 'code'){ cell.auto_highlight(); } }) ;\n",
       "  });\n",
       "});\n",
       "} catch (e) {};\n"
      ]
     },
     "metadata": {},
     "output_type": "display_data"
    }
   ],
   "source": [
    "from pynq.overlays.base import BaseOverlay\n",
    "from pynq_peripherals import ArduinoSEEEDGroveAdapter, PmodGroveAdapter\n",
    "base = BaseOverlay('base.bit')"
   ]
  },
  {
   "cell_type": "markdown",
   "metadata": {},
   "source": [
    "<div class=\"alert alert-box alert-warning\"><ul>\n",
    "    <h4 class=\"alert-heading\">Make Physical Connections </h4>\n",
    "    <li>Connect the PYNQ Grove Adapter to PMODB connector.  Connect the Grove I2C Sunlight sensor module to the G3 connector of the Adapter.</li></ul>\n",
    "</div>"
   ]
  },
  {
   "cell_type": "markdown",
   "metadata": {},
   "source": [
    "### Adapter configuration"
   ]
  },
  {
   "cell_type": "code",
   "execution_count": 5,
   "metadata": {},
   "outputs": [],
   "source": [
    "adapter = PmodGroveAdapter(base.PMODB, G3='grove_sunlight')"
   ]
  },
  {
   "cell_type": "markdown",
   "metadata": {},
   "source": [
    "### Define device object"
   ]
  },
  {
   "cell_type": "code",
   "execution_count": 6,
   "metadata": {},
   "outputs": [],
   "source": [
    "sunlight = adapter.G3"
   ]
  },
  {
   "cell_type": "markdown",
   "metadata": {},
   "source": [
    "### Check if the sunlight sensor is properly connected and ready to communicate"
   ]
  },
  {
   "cell_type": "code",
   "execution_count": 10,
   "metadata": {},
   "outputs": [
    {
     "name": "stdout",
     "output_type": "stream",
     "text": [
      "Device Si1151 is ready!\n"
     ]
    }
   ],
   "source": [
    "if sunlight.is_device_ready():\n",
    "    print(\"Device Si1151 is ready!\")\n",
    "else:\n",
    "    print(\"Device Si1151 is NOT ready!!!\")\n"
   ]
  },
  {
   "cell_type": "markdown",
   "metadata": {},
   "source": [
    "### Configure the sunlight sensor to read UV, Infrared and Visible light intensity"
   ]
  },
  {
   "cell_type": "code",
   "execution_count": 11,
   "metadata": {},
   "outputs": [
    {
     "name": "stdout",
     "output_type": "stream",
     "text": [
      "Device Si1151 configured successfully!\n"
     ]
    }
   ],
   "source": [
    "#configuration of the Si1151 device\n",
    "if sunlight.configure_sunlight_sensor():\n",
    "    print(\"Device Si1151 configured successfully!\")\n",
    "else:\n",
    "    print(\"Device Si1151 is NOT configured!!!\")"
   ]
  },
  {
   "cell_type": "markdown",
   "metadata": {},
   "source": [
    "### Read the visible light intensity"
   ]
  },
  {
   "cell_type": "code",
   "execution_count": 12,
   "metadata": {},
   "outputs": [
    {
     "name": "stdout",
     "output_type": "stream",
     "text": [
      "Visible Light:  853 lux\n"
     ]
    }
   ],
   "source": [
    "#read visible light intensity\n",
    "visible = sunlight.read_visible_light()\n",
    "print('Visible Light: ', visible, 'lux')"
   ]
  },
  {
   "cell_type": "markdown",
   "metadata": {},
   "source": [
    "### Read the Infrared light intensity"
   ]
  },
  {
   "cell_type": "code",
   "execution_count": 13,
   "metadata": {},
   "outputs": [
    {
     "name": "stdout",
     "output_type": "stream",
     "text": [
      "Infrared Light:  2560 lux\n"
     ]
    }
   ],
   "source": [
    "#read IR light intensity\n",
    "infrared = sunlight.read_infrared_light()\n",
    "print('Infrared Light: ', infrared, 'lux')"
   ]
  },
  {
   "cell_type": "markdown",
   "metadata": {},
   "source": [
    "### Read the Ultra-voilet light intensity"
   ]
  },
  {
   "cell_type": "code",
   "execution_count": 14,
   "metadata": {},
   "outputs": [
    {
     "name": "stdout",
     "output_type": "stream",
     "text": [
      "Ultravoilet Light:  1.024 lux\n"
     ]
    }
   ],
   "source": [
    "#read UV light intensity\n",
    "ultravoilet = sunlight.read_ultravoilet_light()\n",
    "print('Ultravoilet Light: ', float(\"{0:.3f}\".format(ultravoilet)), 'lux')"
   ]
  },
  {
   "cell_type": "markdown",
   "metadata": {},
   "source": [
    "### Take continuous samples of all light intensities in finite intervals"
   ]
  },
  {
   "cell_type": "code",
   "execution_count": 15,
   "metadata": {},
   "outputs": [
    {
     "name": "stdout",
     "output_type": "stream",
     "text": [
      "Visible :  853 lux\n",
      "IR Light:  2560 lux\n",
      "UV Light:  1.024 lux\n",
      "\n"
     ]
    }
   ],
   "source": [
    "from time import sleep\n",
    "from IPython.display import clear_output\n",
    "samples = 100\n",
    "while (samples):\n",
    "    print('Visible : ', sunlight.read_visible_light(), 'lux')\n",
    "    print('IR Light: ', sunlight.read_infrared_light(), 'lux')\n",
    "    print('UV Light: ', float(\"{0:.3f}\".format(sunlight.read_ultravoilet_light())), 'lux\\n')\n",
    "    sleep(0.1)\n",
    "    samples -= 1\n",
    "    clear_output(wait=True)"
   ]
  },
  {
   "cell_type": "markdown",
   "metadata": {},
   "source": [
    "### Plot light intensity on graph "
   ]
  },
  {
   "cell_type": "code",
   "execution_count": 16,
   "metadata": {},
   "outputs": [
    {
     "name": "stdout",
     "output_type": "stream",
     "text": [
      "[1194, 1194, 1194, 1194, 1194, 1194, 1194, 1194, 1194, 1194, 1194, 1194, 1194, 1194, 1194, 1194, 1194, 1194, 1194, 1194, 1194, 1194, 1194, 1194, 1194, 1194, 1194, 1194, 1194, 1194, 1194, 1194, 1194, 1194, 1194, 1194, 1194, 1194, 1194, 1194, 1194, 1194, 1194, 1194, 1194, 1194, 1194, 1194, 1194, 1194, 1194, 1194, 1194, 1194, 1194, 1194, 1194, 1194, 1194, 1194, 1194, 1194, 1194, 1194, 1194, 1194, 1194, 1194, 1194, 1194, 1194, 1194, 1194, 1194, 1194, 1194, 1194, 1194, 1194, 1194, 1194, 1194, 1194, 1194, 1194, 1194, 1194, 1194, 1194, 1194, 1194, 1194, 1194, 1194, 1194, 1194, 1194, 1194, 1194, 1194]\n"
     ]
    },
    {
     "data": {
      "image/png": "[encoded data removed]",
      "text/plain": [
       "<matplotlib.figure.Figure at 0xac0713f0>"
      ]
     },
     "metadata": {},
     "output_type": "display_data"
    }
   ],
   "source": [
    "from time import sleep\n",
    "%matplotlib inline\n",
    "import matplotlib.pyplot as plt\n",
    "temp = []\n",
    "sample = 100\n",
    "while (sample):\n",
    "    temp.append(sunlight.read_visible_light())\n",
    "    sleep(0.1)\n",
    "    sample -= 1\n",
    "\n",
    "print(temp)\n",
    "plt.plot(range(len(temp)), temp)\n",
    "plt.title('Light Intensity')\n",
    "plt.xlabel(\"Time(.1s)\")\n",
    "plt.ylabel(\"Lumens (lux)\")\n",
    "min_tmp_log = min(temp) - 500\n",
    "max_tmp_log = max(temp) + 500\n",
    "plt.axis([0, len(temp), min_tmp_log, max_tmp_log])\n",
    "plt.show()"
   ]
  }
 ],
 "metadata": {
  "kernelspec": {
   "display_name": "Python 3",
   "language": "python",
   "name": "python3"
  },
  "language_info": {
   "codemirror_mode": {
    "name": "ipython",
    "version": 3
   },
   "file_extension": ".py",
   "mimetype": "text/x-python",
   "name": "python",
   "nbconvert_exporter": "python",
   "pygments_lexer": "ipython3",
   "version": "3.6.5"
  }
 },
 "nbformat": 4,
 "nbformat_minor": 2
}
