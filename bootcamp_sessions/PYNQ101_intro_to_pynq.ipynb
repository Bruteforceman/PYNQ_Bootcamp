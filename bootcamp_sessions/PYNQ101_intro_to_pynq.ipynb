{
 "cells": [
  {
   "cell_type": "markdown",
   "metadata": {},
   "source": [
    "# Getting started with Jupyter Notebooks\n",
    "\n",
    "This notebook will introduce you to the Jupyter Notebook interface. The goal of this session is to get you comfortable with talking to your new PYNQ board. You can get started by just reading the text here — but there are plenty of friendly helpers ready to help out too!"
   ]
  },
  {
   "cell_type": "markdown",
   "metadata": {},
   "source": [
    "## Contents\n",
    "\n",
    "* [Jupyter Notebooks](#Jupyter-Notebooks)\n",
    "* [Markdown basics](#Markdown-basics)\n",
    "* [Running Python code](#Running-Python-code)\n",
    "* [Summary](#Summary)"
   ]
  },
  {
   "cell_type": "markdown",
   "metadata": {},
   "source": [
    "## Jupyter Notebooks\n",
    "\n",
    "This is a Jupyter Notebook. The Jupyter Notebook is a web application that allows you to create and share documents that contain live code, equations, visualizations and explanatory text. Uses include: data cleaning and transformation, numerical simulation, statistical modeling, machine learning and much more.\n",
    "\n",
    "A Notebook consists of cells that are used to write code, or to record explanatory notes and comments. Notebooks are working documents that can be modified. It is good practice to save a copy of the original notebook before you start to edit. \n",
    "\n",
    "You can do this now from the file menu by selecting `Make a copy...`. Continue this guide from the new copy. \n"
   ]
  },
  {
   "cell_type": "markdown",
   "metadata": {},
   "source": [
    "### Navigating around the Notebook"
   ]
  },
  {
   "cell_type": "markdown",
   "metadata": {},
   "source": [
    "Fortunately, the quickest introduction to the Jupyter Notebook's browser-based interface is built in to the Notebook itself.\n",
    "\n",
    "![Notebook User Interface Tour](./data/Notebook_Tour.png)\n",
    "\n",
    "From the  menu toolbar, first select `Help` and then select the `User Interface Tour` as shown in the diagram above.  Using a mouse, or the right and left keyboard keys, complete the short overview of the Notebook.\n",
    "\n",
    "The Notebook can be navigated using the tool and menu bars or using keyboard shortcuts. Before we start running any Python code in this notebook, let's take a quick look at how we can write text notes (like this one!) using *Markdown*."
   ]
  },
  {
   "cell_type": "markdown",
   "metadata": {},
   "source": [
    "## Markdown basics"
   ]
  },
  {
   "cell_type": "markdown",
   "metadata": {},
   "source": [
    "You can write notes and comments in the Markdown cells of a notebook using Markdown syntax. The Markdown supported by Jupyter Notebooks is described in the following section. \n",
    "\n",
    "This cell is a **Markdown cell**. Double click it now to see the raw markdown.\n",
    "\n",
    "To re-render the markdown, run the cell with the `Run` button in the toolbar or by pressing <kbd>Shift</kbd>+<kbd>Enter</kbd>.\n",
    "\n",
    "> Look at the dropdown box in the toolbar — it should say \"Markdown\". This is how your browser knows to render this text as Markdown, rather than try to execute it as Python code.\n",
    "\n",
    "Let's have a look at some different things we can do with Markdown. [Click here](./extra/Markdown_Examples.ipynb) to open a notebook full of Markdown examples. Feel free to double click on these and see what the corresponding raw Markdown looks like. "
   ]
  },
  {
   "cell_type": "markdown",
   "metadata": {},
   "source": [
    "### Writing your own\n",
    "\n",
    "Now is a good time to try writing some of your own Markdown. Try creating a new markdown cell and typing something into it. Create the cell with the the `+` button in the toolbar and change it to a \"Markdown\" cell using the dropdown in the toolbar (it will default to \"Code\").\n",
    "\n",
    "Write a sentence or two and include an image. Here's one for example: https://bit.ly/2XXjDio (bonus points if you can tell us who this is!).\n",
    "\n",
    "When you're ready, let's move on to running some Python code on the PYNQ board."
   ]
  },
  {
   "cell_type": "markdown",
   "metadata": {},
   "source": [
    "## Running Python code\n",
    "\n",
    "You can type Python code into a Code Cell and execute it on the PYNQ board by running the cell — much like how we rendered Markdown previously.\n",
    "\n",
    "We'll focus just on reading and executing Python for now, so don't worry if you feel uncomfortable with writing your own quite yet.\n",
    "\n",
    "Let's start with a very simple example first. How about printing a string message?"
   ]
  },
  {
   "cell_type": "code",
   "execution_count": null,
   "metadata": {},
   "outputs": [],
   "source": [
    "print(\"Hello, St Vrain!\")"
   ]
  },
  {
   "cell_type": "markdown",
   "metadata": {},
   "source": [
    "Execute the Code Cell above with the `Run` button in the toolbar, or by pressing <kbd>Shift</kbd>+<kbd>Enter</kbd>.\n",
    "\n",
    "### Using variables\n",
    "\n",
    "We can write any Python code at all here. Let's try using a variable to store some data."
   ]
  },
  {
   "cell_type": "code",
   "execution_count": null,
   "metadata": {},
   "outputs": [],
   "source": [
    "counter = 0"
   ]
  },
  {
   "cell_type": "markdown",
   "metadata": {},
   "source": [
    "Now we can use this `counter` value in future cells. Let's increase the counter value and then print it."
   ]
  },
  {
   "cell_type": "code",
   "execution_count": null,
   "metadata": {},
   "outputs": [],
   "source": [
    "counter = counter + 1\n",
    "print(counter)"
   ]
  },
  {
   "cell_type": "markdown",
   "metadata": {},
   "source": [
    "Note that we don't have to run these code cells in sequence either! Try running the previous cell a few more times in a row. You should see the counter value increase by one every time.\n",
    "\n",
    "### Using lists\n",
    "\n",
    "When working with more complicated data than single numbers, we can start to use Python structures like [lists](https://www.programiz.com/python-programming/list) and [dictionaries](https://www.programiz.com/python-programming/dictionary). Let's make a list of adjectives and a list of nouns."
   ]
  },
  {
   "cell_type": "code",
   "execution_count": null,
   "metadata": {},
   "outputs": [],
   "source": [
    "adjectives = [\"large\",    \"small\",    \"sweet\",      \"salty\", \"spooky\" ]\n",
    "nouns      = [\"dinosaur\", \"engineer\", \"PYNQ board\", \"truck\", \"balloon\"]"
   ]
  },
  {
   "cell_type": "markdown",
   "metadata": {},
   "source": [
    "Now we can select words from each list by position. Be careful here — Python counts positions starting from 0! The first element is at position 0, the second is at position 1, etc."
   ]
  },
  {
   "cell_type": "code",
   "execution_count": null,
   "metadata": {},
   "outputs": [],
   "source": [
    "print(nouns[0])\n",
    "print(nouns[2])\n",
    "print(nouns[4])"
   ]
  },
  {
   "cell_type": "markdown",
   "metadata": {},
   "source": [
    "Or we can even select multiple words:"
   ]
  },
  {
   "cell_type": "code",
   "execution_count": null,
   "metadata": {},
   "outputs": [],
   "source": [
    "print(adjectives[2:5])"
   ]
  },
  {
   "cell_type": "markdown",
   "metadata": {},
   "source": [
    "### Using libraries\n",
    "\n",
    "Just for fun, let's combine a random pair of adjectives and nouns. For this, we need to import some Python that can generate random numbers. There are lots of existing Python modules like this available online — remember that you can import and use these for your own projects!"
   ]
  },
  {
   "cell_type": "code",
   "execution_count": null,
   "metadata": {},
   "outputs": [],
   "source": [
    "import random\n",
    "\n",
    "adjective_index = random.randint(0, 4)\n",
    "noun_index      = random.randint(0, 4)\n",
    "\n",
    "print('What a ' + adjectives[adjective_index] + ' ' + nouns[noun_index] + '!')"
   ]
  },
  {
   "cell_type": "markdown",
   "metadata": {},
   "source": [
    "For any new library, we'll need to find out how to use it! We can look at the documentation from the notebook too. If you want to find out more about anything, just type `?` after it. For example, we used something called `random.randint` in the cell above. Let's find out what this does exactly."
   ]
  },
  {
   "cell_type": "code",
   "execution_count": null,
   "metadata": {},
   "outputs": [],
   "source": [
    "random.randint?"
   ]
  },
  {
   "cell_type": "markdown",
   "metadata": {},
   "source": [
    "The documentation should pop up at the bottom of the screen now. According to the documentation, our `random.randint(0, 4)` line will pick a random number from 0, 1, 2, 3, or 4.\n",
    "\n",
    "After typing `random.`, the <kbd>Tab</kbd> key should also let you see all of the other possibilities within the `random` package too 😊"
   ]
  },
  {
   "cell_type": "markdown",
   "metadata": {},
   "source": [
    "### Displaying media\n",
    "\n",
    "So far we've only made Python output text. This is OK, but we can output much more interesting things in a notebook!\n",
    "\n",
    "For example, we can output audio files:"
   ]
  },
  {
   "cell_type": "code",
   "execution_count": null,
   "metadata": {},
   "outputs": [],
   "source": [
    "from IPython.display import Audio\n",
    "Audio('data/birds.wav')"
   ]
  },
  {
   "cell_type": "markdown",
   "metadata": {},
   "source": [
    "And how about YouTube videos?"
   ]
  },
  {
   "cell_type": "code",
   "execution_count": null,
   "metadata": {},
   "outputs": [],
   "source": [
    "from IPython.display import YouTubeVideo\n",
    "YouTubeVideo('-NIaejsQ2s8')"
   ]
  },
  {
   "cell_type": "markdown",
   "metadata": {},
   "source": [
    "Finally, we can show off some fancy plotting features using [`matplotlib`](https://matplotlib.org/gallery/index.html). This is quite advanced, so don't worry if the code is a little bit cryptic for now."
   ]
  },
  {
   "cell_type": "code",
   "execution_count": null,
   "metadata": {},
   "outputs": [],
   "source": [
    "%matplotlib inline\n",
    "\n",
    "import numpy as np\n",
    "import matplotlib.pyplot as plt\n",
    "\n",
    "x = np.linspace(0, 10, 500)\n",
    "y = np.sin(x)\n",
    "\n",
    "plt.plot(x,y)\n",
    "plt.title('A sine wave')"
   ]
  },
  {
   "cell_type": "markdown",
   "metadata": {},
   "source": [
    "If you'd like to try running any of your own Python code, you can create a new cell using the `+` button in the toolbar."
   ]
  },
  {
   "cell_type": "markdown",
   "metadata": {},
   "source": [
    "## Summary\n",
    "\n",
    "You've reached the end of our intro session. So far, you've:\n",
    "\n",
    "  * Got your new PYNQ board connected to the network\n",
    "  * Learned how to navigate Jupyter Notebooks\n",
    "  * Have written some Markdown to neatly express your notes\n",
    "  * Executed some basic Python code, including:\n",
    "    + Print statements\n",
    "    + Variables\n",
    "    + Lists\n",
    "    + Importing existing libraries\n",
    "    + Looking up documentation\n",
    "    + Displaying different types of media\n",
    "\n",
    "### Bonus Challenges\n",
    "\n",
    "If you finish this session early, here are a few (totally optional) Python challenges you could attempt while the others catch-up:\n",
    "\n",
    "  * Extend our random adjective/noun code to make a [\"Mad Lib\"](https://en.wikipedia.org/wiki/Mad_Libs) game\n",
    "  * Read about Python's [dictionaries](https://www.programiz.com/python-programming/dictionary) and include this in your Mad Lib code, letting the writer force each blank to be either an adjective or a noun\n",
    "  * Try running some of the cool plotting examples from the [matplotlib](https://matplotlib.org/gallery/index.html) website.\n",
    "  * Or finally, read a little more about PYNQ [here](https://pynq.readthedocs.io/en/latest/index.html)!\n"
   ]
  },
  {
   "cell_type": "markdown",
   "metadata": {},
   "source": [
    "----\n",
    "\n",
    "[Back to the top](#Contents)\n",
    "\n",
    "----"
   ]
  }
 ],
 "metadata": {
  "kernelspec": {
   "display_name": "Python 3",
   "language": "python",
   "name": "python3"
  },
  "language_info": {
   "codemirror_mode": {
    "name": "ipython",
    "version": 3
   },
   "file_extension": ".py",
   "mimetype": "text/x-python",
   "name": "python",
   "nbconvert_exporter": "python",
   "pygments_lexer": "ipython3",
   "version": "3.8.5"
  }
 },
 "nbformat": 4,
 "nbformat_minor": 4
}
