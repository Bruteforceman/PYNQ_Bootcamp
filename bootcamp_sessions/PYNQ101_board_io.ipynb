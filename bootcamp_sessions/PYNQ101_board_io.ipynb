{
 "cells": [
  {
   "cell_type": "markdown",
   "metadata": {},
   "source": [
    "# Interacting with the PYNQ Board\n",
    "\n",
    "Earlier you started to get familiar with the Jupyter Notebook interface, writing Markdown, and running Python code. Nothing so far has been specific to the PYNQ board. This all could have easily been run on your laptop instead. Now, we'll start looking at the PYNQ board specifically — including playing with the on-board switches and LED lights.\n",
    "\n",
    "Before we start interacting with the physical world, let's try and convince ourselves that the code we write is indeed running on the PYNQ board.\n",
    "\n",
    "## Contents\n",
    "\n",
    "* [Getting PYNQ system information](#Getting-PYNQ-system-information)\n",
    "* [LEDs, switches and buttons](#LEDs-switches-and-buttons)\n",
    "* [Controlling an LED](#Controlling-an-LED)\n",
    "* [Reading from switches and buttons](#Reading-from-switches-and-buttons)\n",
    "* [Reacting to button presses](#Reacting-to-button-presses)\n",
    "* [Summary](#Summary)\n",
    "\n",
    "\n",
    "## Getting PYNQ system information\n",
    "\n",
    "First of all, let's get the \"hostname\" of the device this code is running on. There is a system command (i.e. not a Python command) called `hostname` that does just this. Any command we type after a `!` will be executed as a system command. Try it below:"
   ]
  },
  {
   "cell_type": "code",
   "execution_count": 1,
   "metadata": {},
   "outputs": [
    {
     "name": "stdout",
     "output_type": "stream",
     "text": [
      "pynq\n"
     ]
    }
   ],
   "source": [
    "!hostname"
   ]
  },
  {
   "cell_type": "markdown",
   "metadata": {},
   "source": [
    "The fact that the host name is \"pynq\" should start to convince you that this code is running on the board, and not your laptop!\n",
    "\n",
    "Note that we can use the `!` symbol to run *any* Linux command we want. For example, we'll use this in some of the sessions tomorrow to install extra software."
   ]
  },
  {
   "cell_type": "markdown",
   "metadata": {},
   "source": [
    "Now that we've seen that the commands we write are indeed run on the PYNQ board, let's use the board to interact with something physical!"
   ]
  },
  {
   "cell_type": "markdown",
   "metadata": {},
   "source": [
    "## LEDs, switches and buttons\n",
    "\n",
    "The PYNQ board some on-board controls, including:\n",
    "\n",
    "  * Four green LEDs (called `LD0` to `LD3`)\n",
    "  \n",
    "  * Two multi-color LEDs (`LD4` and `LD5`)\n",
    "  \n",
    "  * Two slide-switches (`SW0` and `SW1`) and...\n",
    "  \n",
    "  * Four push-buttons (`BTN0` to `BTN3`)\n",
    "  \n",
    "Have a look at the board and try to identify each of these elements."
   ]
  },
  {
   "cell_type": "markdown",
   "metadata": {},
   "source": [
    "Note that there are additional push-buttons and LEDs on the board, but these are used for specific functions (Power LED, a reset button, etc.) and are not user accessible.\n",
    "\n",
    "These inputs and outputs can be controlled directly from Python. To demonstrate this, we first need get a Python representation of the board — let's call it `board`."
   ]
  },
  {
   "cell_type": "code",
   "execution_count": 4,
   "metadata": {},
   "outputs": [
    {
     "data": {
      "application/javascript": "\nrequire(['notebook/js/codecell'], function(codecell) {\n  codecell.CodeCell.options_default.highlight_modes[\n      'magic_text/x-csrc'] = {'reg':[/^%%microblaze/]};\n  Jupyter.notebook.events.one('kernel_ready.Kernel', function(){\n      Jupyter.notebook.get_cells().map(function(cell){\n          if (cell.cell_type == 'code'){ cell.auto_highlight(); } }) ;\n  });\n});\n"
     },
     "metadata": {},
     "output_type": "display_data"
    }
   ],
   "source": [
    "from pynq.overlays.base import BaseOverlay\n",
    "\n",
    "board = BaseOverlay(\"base.bit\")"
   ]
  },
  {
   "cell_type": "markdown",
   "metadata": {},
   "source": [
    "This `board` value has lots of different properties associated with it. The names for the buttons, switches, and LEDs are shown below:\n",
    "\n",
    "![](./data/z2_peripherals.svg)\n",
    "\n",
    "For example, if we wanted to do something with the rightmost LED, we would access it via `board.leds[0]`. Let's dive in to how to use each of these controls."
   ]
  },
  {
   "cell_type": "markdown",
   "metadata": {},
   "source": [
    "## Controlling an LED\n",
    "\n",
    "Now that we have this `board` reference, we can start manipulating the LEDs. There are 3 main things we can do with each LED:\n",
    "\n",
    "  1. Turn it on, using `.on()`\n",
    "  2. Turn it off, using `.off()`\n",
    "  3. \"Toggle\" it between off and on, using `.toggle()`\n",
    "\n",
    "Let’s start by turning a single LED on and off."
   ]
  },
  {
   "cell_type": "code",
   "execution_count": 5,
   "metadata": {},
   "outputs": [],
   "source": [
    "led0 = board.leds[0]"
   ]
  },
  {
   "cell_type": "code",
   "execution_count": 6,
   "metadata": {},
   "outputs": [],
   "source": [
    "led0.on()"
   ]
  },
  {
   "cell_type": "markdown",
   "metadata": {},
   "source": [
    "Check the board and confirm the LED is on."
   ]
  },
  {
   "cell_type": "code",
   "execution_count": 7,
   "metadata": {},
   "outputs": [],
   "source": [
    "led0.off()"
   ]
  },
  {
   "cell_type": "markdown",
   "metadata": {},
   "source": [
    "Instead of having to manually toggle our LEDs, we'll now work our way up to flashing the LED on and off automatically. Let's use what we've learned about for loops to toggle LED0 on and off!\n",
    "\n",
    "We can use the `sleep()` method from the `time` package to introduce a delay. This should let us control how quickly the LED flashes.\n",
    "\n",
    "Let's try toggling the LED 20 times using our `for` loop. We'll wait for 0.1 seconds each time before toggling the LED."
   ]
  },
  {
   "cell_type": "code",
   "execution_count": 8,
   "metadata": {},
   "outputs": [],
   "source": [
    "import time\n",
    "\n",
    "for number in range(20):\n",
    "    led0.toggle()\n",
    "    time.sleep(.1)"
   ]
  },
  {
   "cell_type": "markdown",
   "metadata": {},
   "source": [
    " Note that we can only run one cell at a time, so be sure to wait until the loop finishes before continuing."
   ]
  },
  {
   "cell_type": "markdown",
   "metadata": {},
   "source": [
    "## Reading from switches\n",
    "\n",
    "Next, we can start interacting with the LEDs using the switches. We can use `.read()` to get the value of a button or switch.\n",
    "\n",
    "First, let's make sure that all of the LEDs off. Instead of writing 4 lines (one for each LED), let's use a `for` loop to turn off all the LEDs."
   ]
  },
  {
   "cell_type": "code",
   "execution_count": 9,
   "metadata": {},
   "outputs": [],
   "source": [
    "for led_num in range(board.leds.length):\n",
    "    board.leds[led_num].off()"
   ]
  },
  {
   "cell_type": "markdown",
   "metadata": {},
   "source": [
    "Now, let's use the switches to control the two multi-color LEDs. Since we only want to use the multi-color LEDs in positions 4 and 5 of our LEDs list, we should ignore the four LEDs in positions 0, 1, 2, and 3. \n",
    "\n",
    "We want to turn on each LED when the corresponding switch is \"on\", but when the switch is \"off\", we want the LEDs to turn off as well. We can apply an if-else statement here, to do exactly that! \n",
    "\n",
    "Because these are multi-color LEDs, we also need to tell it what color to use. Try changing the `color` number to different values between 1 and 7."
   ]
  },
  {
   "cell_type": "code",
   "execution_count": 11,
   "metadata": {},
   "outputs": [],
   "source": [
    "color = 1 # Try changing this!\n",
    "\n",
    "for switch_num in range(board.switches.length):\n",
    "    led_num = switch_num + 4\n",
    "    \n",
    "    if board.switches[switch_num].read():\n",
    "        board.rgbleds[led_num].on(color)\n",
    "    else:\n",
    "        board.rgbleds[led_num].off()"
   ]
  },
  {
   "cell_type": "markdown",
   "metadata": {},
   "source": [
    "## Summary\n",
    "\n",
    "Let's just summarize what we've covered:\n",
    "\n",
    "  * Used system commands to get information specific to the PYNQ board\n",
    "  * Started to interact with the physical world from Python!\n",
    "    + Turning LEDs on and off\n",
    "    + Reading input from switches\n",
    "\n",
    "### Bonus Challenges\n",
    "\n",
    "Again, if you finish this session early, there are some optional challenges for you to work through. You now know enough to try some pretty neat things with the PYNQ board's inputs and outputs. For example, try:\n",
    "\n",
    "  * Start by displaying a custom pattern on the 4 LEDs\n",
    "  * Now, try making this pattern rotate (LD0 becomes LD1, LD1 becomes LD2, etc.) when a button is pressed\n",
    "  * Let the direction of the rotation be set by one of the switches \n",
    "  * Try making an animation using the LEDs. Start simple, but get as complex as you'd like!  \n",
    "----\n",
    "\n",
    "[Back to the top](#Contents)\n",
    "\n",
    "----"
   ]
  }
 ],
 "metadata": {
  "celltoolbar": "Raw Cell Format",
  "kernelspec": {
   "display_name": "Python 3.9.12 64-bit",
   "language": "python",
   "name": "python3"
  },
  "language_info": {
   "codemirror_mode": {
    "name": "ipython",
    "version": 3
   },
   "file_extension": ".py",
   "mimetype": "text/x-python",
   "name": "python",
   "nbconvert_exporter": "python",
   "pygments_lexer": "ipython3",
   "version": "3.9.12"
  },
  "vscode": {
   "interpreter": {
    "hash": "1c8f8d5709ef5b77151153e87bbaaf0dd6d1368b4ce66b343fe21901d65d7ff9"
   }
  }
 },
 "nbformat": 4,
 "nbformat_minor": 4
}
