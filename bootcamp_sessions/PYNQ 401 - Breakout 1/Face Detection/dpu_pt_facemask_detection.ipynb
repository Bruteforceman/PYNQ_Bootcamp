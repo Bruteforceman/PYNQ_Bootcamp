[InternetShortcut]
URL=http://172.20.8.25:9090/notebooks/pynq-dpu/dpu_pt_facemask_detection.ipynb
