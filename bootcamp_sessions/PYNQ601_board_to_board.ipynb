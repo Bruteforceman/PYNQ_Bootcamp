{
 "cells": [
  {
   "cell_type": "markdown",
   "metadata": {},
   "source": [
    "# Board to Board Communication\n",
    "\n",
    "This session will cover sending messages from one PYNQ board to another."
   ]
  },
  {
   "cell_type": "markdown",
   "metadata": {},
   "source": [
    "## Part 1: Board to Board Communication\n",
    "\n",
    "In many situations, sensors will need to be placed far away from where the data is needed. For instance, you may want to know the temperature at different locations around a city and be able to monitor this from one central location. To do this, we can send data over the network. You cano send many types of data this way depending on your need"
   ]
  },
  {
   "cell_type": "markdown",
   "metadata": {},
   "source": [
    "### 3.0 Install PYNQP2P\n",
    "\n",
    "PYNQP2P is a Python library that allows us to message between our PYNQ boards. You can install the library using the following cell."
   ]
  },
  {
   "cell_type": "code",
   "execution_count": null,
   "metadata": {},
   "outputs": [],
   "source": [
    "!pip3 install ./pynq-p2p"
   ]
  },
  {
   "cell_type": "markdown",
   "metadata": {},
   "source": [
    "Now let's import this new library with Python's `import` statement."
   ]
  },
  {
   "cell_type": "code",
   "execution_count": null,
   "metadata": {},
   "outputs": [],
   "source": [
    "import pynqp2p"
   ]
  },
  {
   "cell_type": "markdown",
   "metadata": {},
   "source": [
    "### 3.1 Launch PYNQP2P\n",
    "PYNQP2P runs in the background, always listening for new messages that have been sent to yo. By default, PYNQP2P is not running on your board. You will need to start it by running the following cell. You only need to run this cell once, after that PYNQP2P will continue running."
   ]
  },
  {
   "cell_type": "code",
   "execution_count": null,
   "metadata": {},
   "outputs": [],
   "source": [
    "pynqp2p.launch()"
   ]
  },
  {
   "cell_type": "markdown",
   "metadata": {},
   "source": [
    "If you need to restart your PYNQ board for any reason you will need to run this cell again."
   ]
  },
  {
   "cell_type": "markdown",
   "metadata": {},
   "source": [
    "### 3.2 Send a message to yourself\n",
    "A simple way to verify that everything is working on our end is to send a message to yourself. PYNQP2P uses IP address to determine who to send messages to. This is similar to the IP address that you have been using throughout the week."
   ]
  },
  {
   "cell_type": "markdown",
   "metadata": {},
   "source": [
    "Computers have a special IP address that we can use when talking to ourselves. This IP address is `127.0.0.1`."
   ]
  },
  {
   "cell_type": "markdown",
   "metadata": {},
   "source": [
    "To send a message, we using the `pynqp2p.send()` function. This function takes the IP address of the target as the first argument and the message as the second argument. Try sending a message to yourself below."
   ]
  },
  {
   "cell_type": "code",
   "execution_count": null,
   "metadata": {},
   "outputs": [],
   "source": [
    "pynqp2p.send('127.0.0.1', 'Hello!')"
   ]
  },
  {
   "cell_type": "markdown",
   "metadata": {},
   "source": [
    "### 3.3 Receive a message\n",
    "\n",
    "Now that we have sent ourselves a message, we need a way to see if it was received. We can use the `pynqp2p.receive()` function to do that. Try receiving a message using the following cell. Check to make sure it is the same as we sent above."
   ]
  },
  {
   "cell_type": "code",
   "execution_count": null,
   "metadata": {},
   "outputs": [],
   "source": [
    "message = pynqp2p.receive()\n",
    "print(f'You received the message \"{message}\"')"
   ]
  },
  {
   "cell_type": "markdown",
   "metadata": {},
   "source": [
    "If you got the error message \"No messages are waiting to be receieved\", try sending yourself another message."
   ]
  },
  {
   "cell_type": "markdown",
   "metadata": {},
   "source": [
    "### 3.4 Send a message to another board\n",
    "\n",
    "Now that we have proved that we can talk to our own board, let's try talking to another board."
   ]
  },
  {
   "cell_type": "markdown",
   "metadata": {},
   "source": [
    "Grab your partner or someone near you and exchange IP addresses. Fill in the other person's IP address and name in the `recipient_name` and `recipient_ip` variables. Then run the cell to send a message!"
   ]
  },
  {
   "cell_type": "code",
   "execution_count": null,
   "metadata": {},
   "outputs": [],
   "source": [
    "recipient_name = 'put your teamates name here'\n",
    "recipient_ip = 'put your teammates IP address here'\n",
    "pynqp2p.send(recipient_ip, f\"Hello {recipient_name}!\")"
   ]
  },
  {
   "cell_type": "markdown",
   "metadata": {},
   "source": [
    "### 3.5 Receive a message from another board\n",
    "\n",
    "You should now have a message in waiting from another person. Run the following cell to check what it says."
   ]
  },
  {
   "cell_type": "code",
   "execution_count": null,
   "metadata": {},
   "outputs": [],
   "source": [
    "message = pynqp2p.receive()\n",
    "print(message)"
   ]
  },
  {
   "cell_type": "markdown",
   "metadata": {},
   "source": [
    "### 3.6 Sending Multiple Messages"
   ]
  },
  {
   "cell_type": "markdown",
   "metadata": {},
   "source": [
    "Sometimes it is helpful to send multiple messages in a row to another PYNQ board. A really simple way to do this is to run the send(ip, message) command multiple times."
   ]
  },
  {
   "cell_type": "code",
   "execution_count": null,
   "metadata": {},
   "outputs": [],
   "source": [
    "recipient_ip = 'fill in here'\n",
    "pynqp2p.send(recipient_ip, \"Hello 0\")\n",
    "pynqp2p.send(recipient_ip, \"Hello 1\")\n",
    "pynqp2p.send(recipient_ip, \"Hello 2\")\n",
    "pynqp2p.send(recipient_ip, \"Hello 3\")\n",
    "pynqp2p.send(recipient_ip, \"Hello 4\")"
   ]
  },
  {
   "cell_type": "markdown",
   "metadata": {},
   "source": [
    "Now in order to recieve these messages, we'll have to call the recieve() function a few times."
   ]
  },
  {
   "cell_type": "code",
   "execution_count": null,
   "metadata": {},
   "outputs": [],
   "source": [
    "print(pynqp2p.receive())\n",
    "print(pynqp2p.receive())\n",
    "print(pynqp2p.receive())\n",
    "print(pynqp2p.receive())\n",
    "print(pynqp2p.receive())"
   ]
  },
  {
   "cell_type": "markdown",
   "metadata": {},
   "source": [
    "This seems tedious, there must be a better way! If you remember earlier, we used a for loop to read multiple temperatures from the temperature sensor and put them in an array. We can use the same technique here."
   ]
  },
  {
   "cell_type": "code",
   "execution_count": null,
   "metadata": {},
   "outputs": [],
   "source": [
    "for i in range(5):\n",
    "    pynqp2p.send(recipient_ip, \"Hello \" + str(i))"
   ]
  },
  {
   "cell_type": "markdown",
   "metadata": {},
   "source": [
    "Now we will use another for loop to retrieve all the messages we just sent. "
   ]
  },
  {
   "cell_type": "code",
   "execution_count": null,
   "metadata": {},
   "outputs": [],
   "source": [
    "for i in range(5):\n",
    "    print(pynqp2p.receive())"
   ]
  },
  {
   "cell_type": "markdown",
   "metadata": {},
   "source": [
    "As you can see, this is a lot less tedious and required a lot less code to achieve the same goal. The only problem here is that we can only access the retrieved messages one at a time. pynqp2p containes a really useful function called recieve_all() that helps us here."
   ]
  },
  {
   "cell_type": "code",
   "execution_count": null,
   "metadata": {},
   "outputs": [],
   "source": [
    "# first, let's send ourselves 5 messages\n",
    "for i in range(5):\n",
    "    pynqp2p.send(recipient_ip, \"Hello \" + str(i))"
   ]
  },
  {
   "cell_type": "code",
   "execution_count": null,
   "metadata": {},
   "outputs": [],
   "source": [
    "# now, let's see what the recieve_all() functions does for us\n",
    "print(pynqp2p.receive_all())"
   ]
  },
  {
   "cell_type": "markdown",
   "metadata": {},
   "source": [
    "## 3.7 Clearing out your messages\n",
    "\n",
    "Now that we are sending messages in loops, you might have accidently been sent (or sent yourself) a bunch of messages that you don't want. You can use the `pynqp2p.clear()` function to delete all pending messages."
   ]
  },
  {
   "cell_type": "code",
   "execution_count": null,
   "metadata": {},
   "outputs": [],
   "source": [
    "pynqp2p.clear()"
   ]
  },
  {
   "cell_type": "markdown",
   "metadata": {},
   "source": [
    "## Challenges\n",
    "\n",
    "1. Try to send some numbers to another board, add them, and then send them back.\n",
    "2. Try to send multiple lines of text to another board in one message. (Hint: you will want to use the Python multi line string functionality using triple quotes, ex: `\"\"\"test\"\"\"`)\n",
    "3. Try to send the same message to multiple PYNQ boards using a for loop (Hint: you will want an array of IP addresses)\n",
    "4. Try to send information you have gotten from another notebook, (sensor, camera, etc) to another PYNQ board."
   ]
  },
  {
   "cell_type": "markdown",
   "metadata": {},
   "source": [
    "The possibilites are endless!"
   ]
  },
  {
   "cell_type": "markdown",
   "metadata": {},
   "source": [
    "## Restarting PYNQP2P\n",
    "\n",
    "If you are having issues with PYNQP2P, you can try restarting it using the following cell. This will clear all your messages out, so be careful."
   ]
  },
  {
   "cell_type": "code",
   "execution_count": null,
   "metadata": {},
   "outputs": [],
   "source": [
    "pynqp2p.reset()"
   ]
  }
 ],
 "metadata": {
  "kernelspec": {
   "display_name": "Python 3",
   "language": "python",
   "name": "python3"
  },
  "language_info": {
   "codemirror_mode": {
    "name": "ipython",
    "version": 3
   },
   "file_extension": ".py",
   "mimetype": "text/x-python",
   "name": "python",
   "nbconvert_exporter": "python",
   "pygments_lexer": "ipython3",
   "version": "3.6.5"
  }
 },
 "nbformat": 4,
 "nbformat_minor": 2
}
