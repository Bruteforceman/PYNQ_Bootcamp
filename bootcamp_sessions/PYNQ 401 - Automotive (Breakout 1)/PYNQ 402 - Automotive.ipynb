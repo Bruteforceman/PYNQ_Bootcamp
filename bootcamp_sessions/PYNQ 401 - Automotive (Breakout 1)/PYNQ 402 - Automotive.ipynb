{
 "cells": [
  {
   "cell_type": "markdown",
   "id": "e17bff23",
   "metadata": {},
   "source": [
    "# Image Segmentation with ENet\n",
    "With the rise of AI and Machine Learning, new doors have been opened in the automotive industry for self driving vehicals. These vehicals use AI models to interperate their surroundings so that they can make the correct decisions to get you from A to B with everyone in one piece. A good, yet simple example of one of these models is ENet Cityscapes. This model does what is called __Image Segmentation__, which splits a photo into several regions based on what the model thinks is in them.\n",
    "Here is an example:"
   ]
  },
  {
   "attachments": {
    "68747470733a2f2f696d672e796f75747562652e636f6d2f76692f48625068766374356b76732f302e6a7067.jpg": {
     "image/jpeg": "[encoded data removed]"
    }
   },
   "cell_type": "markdown",
   "id": "6f0e17d1",
   "metadata": {},
   "source": [
    "![68747470733a2f2f696d672e796f75747562652e636f6d2f76692f48625068766374356b76732f302e6a7067.jpg](attachment:68747470733a2f2f696d672e796f75747562652e636f6d2f76692f48625068766374356b76732f302e6a7067.jpg)"
   ]
  },
  {
   "cell_type": "markdown",
   "id": "071976bc",
   "metadata": {
    "extensions": {
     "jupyter_dashboards": {
      "version": 1,
      "views": {
       "default_view": {
        "col": 0,
        "height": 2,
        "row": 0,
        "width": 12
       }
      }
     }
    }
   },
   "source": [
    "### Useful Term Cheat Sheet:\n",
    "Here is a cheat sheet of some usefull terms that may pop up in this notebook. As always, feel free to ask me (Ben) any questions!"
   ]
  },
  {
   "cell_type": "markdown",
   "id": "4b791c0d",
   "metadata": {},
   "source": [
    "| Term | Description |\n",
    "| --- | --- |\n",
    "| DPU | Data Processing Unit |\n",
    "| ENet | This is the segmentation model we are using! |\n",
    "| Segmentation | Splitting a photo into different areas based on what is in them. |\n",
    "| Overlay | Overlays are designs for the FPGA |\n",
    "| FPGA | Field Programmable Gate Array. This is a special kind of chip that we can reprogram to do many different tasks very efficiently! | \n",
    "| Array | Another word for list. Multiple variables or items stored under one variable name. |\n",
    "| Tensor | A multidimentional array also known as a matrix. (arrays within arrays) |"
   ]
  },
  {
   "cell_type": "markdown",
   "id": "b3e606aa",
   "metadata": {},
   "source": [
    "### Importing Libraries:"
   ]
  },
  {
   "cell_type": "code",
   "execution_count": null,
   "id": "c4d8f345",
   "metadata": {
    "extensions": {
     "jupyter_dashboards": {
      "version": 1,
      "views": {
       "default_view": {
        "col": 0,
        "height": 2,
        "row": 2,
        "width": 12
       }
      }
     }
    }
   },
   "outputs": [],
   "source": [
    "# Lets import some libraries we will need later on:\n",
    "import os                                               # The os library provides some functions for interacting with your operating system (your computer system)\n",
    "import time                                             # The time library provides some time related functions like the wait() command\n",
    "import numpy as np                                      # numpy or np is a library for processing numerical data. Its mainly just math stuff. \n",
    "import cv2                                              # cv2 is a library for image processing which we need later\n",
    "from PIL import Image                                   # PIL Image adds some image processing tools too\n",
    "import matplotlib.pyplot as plt                         # matplotlib.pyplot is a great tool for displaying data on graphs or other media \n",
    "%matplotlib inline\n",
    "from pynq_dpu import DpuOverlay                         \n",
    "\n",
    "\n",
    "#Now lets define some variables for later and get the DPU ready:\n",
    "image_folder = 'img'                                    # Specifies which folder to look in for photos                                            "
   ]
  },
  {
   "cell_type": "markdown",
   "id": "c0fe1f61",
   "metadata": {},
   "source": [
    "### Overlay Setup:\n",
    "\n",
    "Now lets define our __overlay__ and load the __Enet__ model onto it."
   ]
  },
  {
   "cell_type": "code",
   "execution_count": null,
   "id": "bbac4d16",
   "metadata": {},
   "outputs": [],
   "source": [
    "overlay = DpuOverlay(\"dpu.bit\")                \n",
    "overlay.load_model(\"pt_ENet.xmodel\")"
   ]
  },
  {
   "cell_type": "markdown",
   "id": "639e557c",
   "metadata": {},
   "source": [
    "### Creating an image list:\n",
    "\n",
    "This cell creates a list of images we intend on using as inputs. It then prints how many images it finds."
   ]
  },
  {
   "cell_type": "code",
   "execution_count": null,
   "id": "ed328202",
   "metadata": {
    "extensions": {
     "jupyter_dashboards": {
      "version": 1,
      "views": {
       "default_view": {
        "col": 0,
        "height": 2,
        "row": 6,
        "width": 12
       }
      }
     }
    }
   },
   "outputs": [],
   "source": [
    "#Here we are creating a list that contains all of the .jpeg photos in the image folder we specified earlier\n",
    "original_images = [i for i in os.listdir(image_folder) if i.endswith(\"png\")]\n",
    "total_images = len(original_images)\n",
    "print(\"Number of Photos:\" + str(total_images))"
   ]
  },
  {
   "cell_type": "markdown",
   "id": "6c6293c6",
   "metadata": {},
   "source": [
    "__Preprocessing Setup:__\n",
    "\n",
    "Here we are going to define a few lists and a function that will be needed for preproccessing. The model cannot take an image as an input directly, so these lists and functions are used to turn the photo into inputs the model can understand."
   ]
  },
  {
   "cell_type": "code",
   "execution_count": null,
   "id": "5ea145b8",
   "metadata": {
    "extensions": {
     "jupyter_dashboards": {
      "version": 1,
      "views": {
       "default_view": {
        "col": 0,
        "height": 2,
        "row": 4,
        "width": 12
       }
      }
     }
    }
   },
   "outputs": [],
   "source": [
    "# The pallet list provides the colors to be used in our output photo later\n",
    "pallete = [128, 64, 128, 244, 35, 232, 70, 70, 70, 102, 102, 156, 190, 153, 153, 153, 153, 153, 250, 170, 30,\n",
    "           220, 220, 0, 107, 142, 35, 152, 251, 152, 70, 130, 180, 220, 20, 60, 255, 0, 0, 0, 0, 142, 0, 0, 70,\n",
    "           0, 60, 100, 0, 80, 100, 0, 0, 230, 119, 11, 32 ]\n",
    "\n",
    "# These are some preprocessing variables and functions that help the model interperate the input photo\n",
    "# Dont worry if this looks like gibberish to you! This is beyond what you need to know for this camp.\n",
    "MEANS = [.485, .456, .406]\n",
    "STDS = [.229, .224, .225]\n",
    "\n",
    "def preprocess_fn(image):\n",
    "    image = image.astype(np.float32)\n",
    "    image =  image / 255.0\n",
    "    for j in range(3):\n",
    "        image[:, :, j] -= MEANS[j]\n",
    "    for j in range(3):\n",
    "        image[:, :, j] /= STDS[j]\n",
    "    return image"
   ]
  },
  {
   "cell_type": "markdown",
   "id": "2486df57",
   "metadata": {},
   "source": [
    "__Initializing the DPU:__\n",
    "The runner is how we pass __tensors__ through to the model. Lets initialize it here!"
   ]
  },
  {
   "cell_type": "code",
   "execution_count": null,
   "id": "ff7e6115",
   "metadata": {
    "extensions": {
     "jupyter_dashboards": {
      "version": 1,
      "views": {
       "default_view": {
        "col": 0,
        "height": 2,
        "row": 8,
        "width": 12
       }
      }
     }
    }
   },
   "outputs": [],
   "source": [
    "dpu = overlay.runner"
   ]
  },
  {
   "cell_type": "markdown",
   "id": "9bd2a354",
   "metadata": {},
   "source": [
    "__Tensors:__\n",
    "\n",
    "__Tensors__ are how we pass information in and out of models. You can think of __tensors__ as __arrays__ of __arrays__ of __arrays__ ... or a \"multidimentional array\" if you want to sound cool. (__Arrays__ are another word for lists!)\n",
    "\n",
    "Here we are looking to find what the dimensions of the input and output __tensors__ are so we know how to shape our data."
   ]
  },
  {
   "cell_type": "code",
   "execution_count": null,
   "id": "d9da723d",
   "metadata": {
    "extensions": {
     "jupyter_dashboards": {
      "version": 1,
      "views": {
       "default_view": {
        "col": 0,
        "height": 2,
        "row": 10,
        "width": 12
       }
      }
     }
    }
   },
   "outputs": [],
   "source": [
    "# Here we assign the input and output tensors to variables we can use later.\n",
    "inputTensors = dpu.get_input_tensors()\n",
    "outputTensors = dpu.get_output_tensors()\n",
    "\n",
    "shapeIn = tuple(inputTensors[0].dims)   # (1, 512, 1024, 3)        \n",
    "shapeOut = tuple(outputTensors[0].dims) # (1, 512, 1024, 19)\n",
    "# outputSize = int(outputTensors[0].get_data_size() / shapeIn[0]) # While you dont need this, you can find out the size of your output too!"
   ]
  },
  {
   "cell_type": "markdown",
   "id": "1d3f48d8",
   "metadata": {},
   "source": [
    "__Shaping the data:__\n",
    "\n",
    "Here we want to shape our data to the __tensor__ dimentions we found in the last cell. We do this through a library called numpy which is really good for numerical computing."
   ]
  },
  {
   "cell_type": "code",
   "execution_count": null,
   "id": "06c65396",
   "metadata": {
    "extensions": {
     "jupyter_dashboards": {
      "version": 1,
      "views": {
       "default_view": {
        "col": 0,
        "height": 2,
        "row": 12,
        "width": 12
       }
      }
     }
    }
   },
   "outputs": [],
   "source": [
    "input_data = [np.empty(shapeIn, dtype=np.float32, order=\"C\")]\n",
    "output_data = [np.empty(shapeOut, dtype=np.float32, order=\"C\")]\n",
    "image = input_data[0]"
   ]
  },
  {
   "cell_type": "markdown",
   "id": "d48f0b85",
   "metadata": {},
   "source": [
    "__Where all the fun happens!__\n",
    "\n",
    "Here we define our run function which takes our image and __segments__ it. This uses all of the bits and pieces we defined earlier!"
   ]
  },
  {
   "cell_type": "code",
   "execution_count": null,
   "id": "d95bb8ee",
   "metadata": {
    "extensions": {
     "jupyter_dashboards": {
      "version": 1,
      "views": {
       "default_view": {
        "col": 0,
        "height": 2,
        "row": 14,
        "width": 12
       }
      }
     }
    }
   },
   "outputs": [],
   "source": [
    "def run(image_index, display=False):\n",
    "    # Read input image\n",
    "    input_image = cv2.imread(os.path.join(image_folder, original_images[image_index]))\n",
    "    \n",
    "    # Pre-processing\n",
    "    resized = cv2.resize(input_image,(1024,512))\n",
    "    preprocessed = preprocess_fn(resized)\n",
    "    \n",
    "    # Fetch data to DPU and trigger it\n",
    "    image[0,...] = preprocessed.reshape(shapeIn[1:])\n",
    "    job_id = dpu.execute_async(input_data, output_data)\n",
    "    dpu.wait(job_id)                                       \n",
    "    \n",
    "    # Retrieve output data\n",
    "    classMap_numpy = np.argmax(output_data[0][0], axis=-1).astype(np.uint8)\n",
    "    classMap_numpy = Image.fromarray(classMap_numpy)\n",
    "    classMap_numpy_color = classMap_numpy.copy()\n",
    "    classMap_numpy_color.putpalette(pallete)\n",
    "    if display:\n",
    "        _, ax = plt.subplots(1) # Display segmented Image\n",
    "        _ = ax.imshow(classMap_numpy_color)\n",
    "        \n",
    "        \n",
    "        display_image = cv2.imread(os.path.join(    # Display original image\n",
    "            image_folder, original_images[image_index]))\n",
    "        _, ax = plt.subplots(1)\n",
    "        _ = ax.imshow(cv2.cvtColor(display_image, cv2.COLOR_BGR2RGB))"
   ]
  },
  {
   "cell_type": "markdown",
   "id": "d429056b",
   "metadata": {},
   "source": [
    "__Go time!__\n",
    "\n",
    "Lets finally run this thing by passing in one of our photos from the origional_images list!"
   ]
  },
  {
   "cell_type": "code",
   "execution_count": null,
   "id": "42b9f464",
   "metadata": {
    "extensions": {
     "jupyter_dashboards": {
      "version": 1,
      "views": {
       "default_view": {
        "col": 0,
        "height": 2,
        "row": 16,
        "width": 12
       }
      }
     }
    },
    "scrolled": false
   },
   "outputs": [],
   "source": [
    "run(0, display=True) # Note the first arguement in the run function takes the \n",
    "                     # index of the photo you want, no the photo itself."
   ]
  },
  {
   "cell_type": "markdown",
   "id": "08f7f4cb",
   "metadata": {},
   "source": [
    "__But Wait! There's More!__\n",
    "\n",
    "We can use a simple for loop to do this for all of the images we found earlier."
   ]
  },
  {
   "cell_type": "code",
   "execution_count": null,
   "id": "4848aad1",
   "metadata": {},
   "outputs": [],
   "source": [
    "for img in original_images:\n",
    "    run(original_images.index(img), display=True) "
   ]
  },
  {
   "cell_type": "markdown",
   "id": "f2f9d11d",
   "metadata": {},
   "source": [
    "__Cleanup:__\n",
    "Just like in the other notebooks, we have to release the overlay and dpu so we can use it later!"
   ]
  },
  {
   "cell_type": "code",
   "execution_count": null,
   "id": "728d6914",
   "metadata": {},
   "outputs": [],
   "source": [
    "del overlay\n",
    "del dpu"
   ]
  },
  {
   "cell_type": "markdown",
   "id": "2dcdafa4",
   "metadata": {},
   "source": [
    "# Distance Measurement with Ultrasonic Sensors"
   ]
  },
  {
   "cell_type": "markdown",
   "id": "f323b62f",
   "metadata": {},
   "source": [
    "__Setup:__\n",
    "Attatch the PMOD adapter to your board and then attatch the Ultrasonic Sensor to the G4 port. This is what it should look like:"
   ]
  },
  {
   "attachments": {
    "Ultrasonic%20connector.jpg": {
     "image/jpeg": "[encoded data removed]"
    }
   },
   "cell_type": "markdown",
   "id": "327e97ca",
   "metadata": {},
   "source": [
    "![Ultrasonic%20connector.jpg](attachment:Ultrasonic%20connector.jpg)"
   ]
  },
  {
   "cell_type": "markdown",
   "id": "09c8f592",
   "metadata": {},
   "source": [
    "Another important aspect of automated driving is being able to sense how far ahead of you an object is. While automated cars use something called LIDAR to range objects, we will be using ultrasonic sensors. These send out sound waves well above the range that we can hear. It then uses how long it takes for that sound to bounce off an object and return to the sensor to calculate its distance. Here is some simple code to take 10 distance samples:"
   ]
  },
  {
   "cell_type": "markdown",
   "id": "9bb49028",
   "metadata": {},
   "source": [
    "__Adapter and Device Setup__"
   ]
  },
  {
   "cell_type": "code",
   "execution_count": null,
   "id": "653c320c",
   "metadata": {},
   "outputs": [],
   "source": [
    "from pynq_peripherals import PmodGroveAdapter\n",
    "from kv260 import BaseOverlay\n",
    "\n",
    "base = BaseOverlay('base.bit')\n",
    "\n",
    "adapter = PmodGroveAdapter(base.PMODA, G4='grove_usranger')\n",
    "usranger = adapter.G4"
   ]
  },
  {
   "cell_type": "markdown",
   "id": "4eb743bd",
   "metadata": {},
   "source": [
    "Because our ultrasonic sensor is pretty small, it can only detect ranges up to 5 meters. Anything past that and it will print 500 cm!\n",
    "\n",
    "Here's a simple loop that prints the measured distance 10 times:"
   ]
  },
  {
   "cell_type": "code",
   "execution_count": null,
   "id": "0c8dc9ce",
   "metadata": {},
   "outputs": [],
   "source": [
    "from time import sleep\n",
    "for i in range(10):\n",
    "    print('distance: {:.2f} cm'.format(usranger.get_distance()))\n",
    "    sleep(1)"
   ]
  },
  {
   "cell_type": "code",
   "execution_count": null,
   "id": "dadbe6c0",
   "metadata": {},
   "outputs": [],
   "source": [
    "del base"
   ]
  },
  {
   "cell_type": "markdown",
   "id": "a0b5f6a6",
   "metadata": {
    "extensions": {
     "jupyter_dashboards": {
      "version": 1,
      "views": {
       "default_view": {
        "hidden": true
       }
      }
     }
    }
   },
   "source": [
    "# Extra Challenges:\n",
    "Was this too fast or boring? Here are some challenges for you!\n",
    "\n",
    "__Easy:__ Change the code to add the .jpeg and .jpg files in the img directory to the original_images list.\n",
    "\n",
    "__Medium:__ Change the run function to accept images instead of photo indexes. (i.e. origional_images[0] instead of original_images.index(img))\n",
    "\n",
    "__Hard:__ Detect and print what the color is at the very center of the photo.\n",
    "\n",
    "__Do you just want my job???:__ Detect the color at the center of the screen and print \"CAR IN FRONT\" on the OLED display if the color is blue."
   ]
  }
 ],
 "metadata": {
  "extensions": {
   "jupyter_dashboards": {
    "activeView": "default_view",
    "version": 1,
    "views": {
     "default_view": {
      "cellMargin": 10,
      "defaultCellHeight": 40,
      "maxColumns": 12,
      "name": "active_view",
      "type": "grid"
     }
    }
   }
  },
  "kernelspec": {
   "display_name": "Python 3 (ipykernel)",
   "language": "python",
   "name": "python3"
  },
  "language_info": {
   "codemirror_mode": {
    "name": "ipython",
    "version": 3
   },
   "file_extension": ".py",
   "mimetype": "text/x-python",
   "name": "python",
   "nbconvert_exporter": "python",
   "pygments_lexer": "ipython3",
   "version": "3.10.6"
  }
 },
 "nbformat": 4,
 "nbformat_minor": 5
}
