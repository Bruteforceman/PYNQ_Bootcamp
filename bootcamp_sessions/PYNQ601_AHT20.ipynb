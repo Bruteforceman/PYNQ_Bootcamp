{
 "cells": [
  {
   "cell_type": "markdown",
   "metadata": {},
   "source": [
    "## Grove AHT20 (Humidity & Temperature Sensor)\n",
    "\n",
    "This notebook shows how to install the Python driver for the AHT20 temperature sensor and use it to make a humidity/temperature measurement."
   ]
  },
  {
   "cell_type": "markdown",
   "metadata": {},
   "source": [
    "## Part 1: Setup"
   ]
  },
  {
   "cell_type": "markdown",
   "metadata": {},
   "source": [
    "### 1. Initialize Overlay\n",
    "\n",
    "Our PYNQ Board has a Field Programmable Gate Array (FPGA) on it that must be programmed before we begin using the board. We apply designs called overlays that we can design however we want. For the first part of this tutorial, we are going to use the pre-built base overlay."
   ]
  },
  {
   "cell_type": "code",
   "execution_count": 1,
   "metadata": {},
   "outputs": [
    {
     "data": {
      "application/javascript": [
       "\n",
       "try {\n",
       "require(['notebook/js/codecell'], function(codecell) {\n",
       "  codecell.CodeCell.options_default.highlight_modes[\n",
       "      'magic_text/x-csrc'] = {'reg':[/^%%microblaze/]};\n",
       "  Jupyter.notebook.events.one('kernel_ready.Kernel', function(){\n",
       "      Jupyter.notebook.get_cells().map(function(cell){\n",
       "          if (cell.cell_type == 'code'){ cell.auto_highlight(); } }) ;\n",
       "  });\n",
       "});\n",
       "} catch (e) {};\n"
      ]
     },
     "metadata": {},
     "output_type": "display_data"
    },
    {
     "data": {
      "application/javascript": [
       "\n",
       "try {\n",
       "require(['notebook/js/codecell'], function(codecell) {\n",
       "  codecell.CodeCell.options_default.highlight_modes[\n",
       "      'magic_text/x-csrc'] = {'reg':[/^%%pybind11/]};\n",
       "  Jupyter.notebook.events.one('kernel_ready.Kernel', function(){\n",
       "      Jupyter.notebook.get_cells().map(function(cell){\n",
       "          if (cell.cell_type == 'code'){ cell.auto_highlight(); } }) ;\n",
       "  });\n",
       "});\n",
       "} catch (e) {};\n"
      ]
     },
     "metadata": {},
     "output_type": "display_data"
    }
   ],
   "source": [
    "from pynq.overlays.base import BaseOverlay\n",
    "base = BaseOverlay(\"base.bit\")"
   ]
  },
  {
   "cell_type": "markdown",
   "metadata": {},
   "source": [
    "### 2. Install Python Driver\n",
    "\n",
    "Here we tell the board what libarires we want to use in our project."
   ]
  },
  {
   "cell_type": "code",
   "execution_count": 2,
   "metadata": {},
   "outputs": [
    {
     "name": "stdout",
     "output_type": "stream",
     "text": [
      "Collecting git+https://github.com/LewisMcL/pynq_drivers\n",
      "  Cloning https://github.com/LewisMcL/pynq_drivers to /tmp/pip-req-build-8s_74zd4\n",
      "  Running command git clone --filter=blob:none -q https://github.com/LewisMcL/pynq_drivers /tmp/pip-req-build-8s_74zd4\n",
      "  Resolved https://github.com/LewisMcL/pynq_drivers to commit 857e67535ed40518672ea0afeba4970a6d5651dc\n",
      "  Preparing metadata (setup.py) ... \u001b[?25ldone\n",
      "\u001b[33mWARNING: Running pip as the 'root' user can result in broken permissions and conflicting behaviour with the system package manager. It is recommended to use a virtual environment instead: https://pip.pypa.io/warnings/venv\u001b[0m\n",
      "\u001b[?25h"
     ]
    }
   ],
   "source": [
    "!pip3 install git+https://github.com/LewisMcL/pynq_drivers --no-deps"
   ]
  },
  {
   "cell_type": "markdown",
   "metadata": {},
   "source": [
    "### 3. Import Temperature Sensor Libraries\n",
    "\n",
    "Here we tell the board what libarires we want to use in our project.\n",
    "Make sure your PMOD to Grove adapter is connected to the PMODB port. We are importing PMOD_GROVE_G3, because the AHT20 sensor is connected to the 3rd Grove adaptor port. If you have it plugged into G4, you will have to do from pynq.lib.pmod import PMOD_GROVE_G4 instead."
   ]
  },
  {
   "cell_type": "code",
   "execution_count": 3,
   "metadata": {},
   "outputs": [],
   "source": [
    "from grove import Grove_AHT20\n",
    "from pynq.lib.pmod import PMOD_GROVE_G3"
   ]
  },
  {
   "cell_type": "markdown",
   "metadata": {},
   "source": [
    "## Part 2: Reading Temperature and Humidity"
   ]
  },
  {
   "cell_type": "markdown",
   "metadata": {},
   "source": [
    "### 2.1 Plugging in your AHT20 Sensor"
   ]
  },
  {
   "cell_type": "markdown",
   "metadata": {},
   "source": [
    "Plug your PMOD to Grove adaptor (shown in picture below) into one of your PMOD connectors on your PYNQ board. Then plug you AHT20 humidity sensor into the one of the four white Grove adaptor ports"
   ]
  },
  {
   "cell_type": "markdown",
   "metadata": {},
   "source": [
    "<img src=https://cdn10.bigcommerce.com/s-7gavg/products/531/images/4215/29229088904_4cf481dfc7_b__29773.1474563659.1280.1280.jpg width=\"400\">\n",
    "\n",
    "![alt text](data/AHT20_setup.jpg)"
   ]
  },
  {
   "cell_type": "markdown",
   "metadata": {},
   "source": [
    "## 2.2 Initialize the Temperature Sensor"
   ]
  },
  {
   "cell_type": "markdown",
   "metadata": {},
   "source": [
    "We create an variable called \"py_ht\" that represents the sensor. From this object we can call functions that retrieve data from the sensor."
   ]
  },
  {
   "cell_type": "code",
   "execution_count": 4,
   "metadata": {},
   "outputs": [],
   "source": [
    "py_ht = Grove_AHT20(base.PMODB, PMOD_GROVE_G3)"
   ]
  },
  {
   "cell_type": "markdown",
   "metadata": {},
   "source": [
    "## 2.3 Read the Temperature and Humidity¶ "
   ]
  },
  {
   "cell_type": "markdown",
   "metadata": {},
   "source": [
    "We instantiate the sensor using the Grove_ATH20 constructor. This is very similar to a function, but it returns an object that represents our sensor that we can then use to call functions like get_temp()."
   ]
  },
  {
   "cell_type": "code",
   "execution_count": 5,
   "metadata": {},
   "outputs": [
    {
     "name": "stdout",
     "output_type": "stream",
     "text": [
      "Humidity:  38.18 %\n",
      "Temperature:  24.54 °C\n"
     ]
    }
   ],
   "source": [
    "humidity = py_ht.get_humidity()\n",
    "temp_c = py_ht.get_temp()\n",
    "print('Humidity: ', float(\"{0:.2f}\".format(humidity)), '%')\n",
    "print('Temperature: ', float(\"{0:.2f}\".format(temp_c)), '°C')"
   ]
  },
  {
   "cell_type": "markdown",
   "metadata": {},
   "source": [
    "## 2.4 Convert to Fahrenheit"
   ]
  },
  {
   "cell_type": "markdown",
   "metadata": {},
   "source": [
    "Converting to Fahrenheit is done by the following equation:"
   ]
  },
  {
   "cell_type": "markdown",
   "metadata": {},
   "source": [
    "fahrenheit = celsius * (9/5) + 32"
   ]
  },
  {
   "cell_type": "code",
   "execution_count": 6,
   "metadata": {},
   "outputs": [
    {
     "name": "stdout",
     "output_type": "stream",
     "text": [
      "The temperature is 76.16709899902344 F\n"
     ]
    }
   ],
   "source": [
    "temp_f = temp_c * (9/5) + 32\n",
    "print(f'The temperature is {temp_f} F')"
   ]
  },
  {
   "cell_type": "markdown",
   "metadata": {},
   "source": [
    "##  2.5 Averaging the Temperature"
   ]
  },
  {
   "cell_type": "markdown",
   "metadata": {},
   "source": [
    "Both computers and the world aren't always perfect. This means that there can be some variation in values that we see. Averaging is a technique that can help up try to hone in on the \"correct\" answer that we are looking for."
   ]
  },
  {
   "cell_type": "markdown",
   "metadata": {},
   "source": [
    "First, let's read a number of values from the temperature sensor."
   ]
  },
  {
   "cell_type": "code",
   "execution_count": 7,
   "metadata": {},
   "outputs": [
    {
     "name": "stdout",
     "output_type": "stream",
     "text": [
      "[76.16229248046875, 76.22477722167969, 76.30374145507812, 76.31129455566406, 76.32743072509766]\n"
     ]
    }
   ],
   "source": [
    "# create temperatures as an empty array\n",
    "temps = []\n",
    "# read 5 temperature values and store then in the \"temps\" array\n",
    "for i in range(5):\n",
    "    # read temp in C\n",
    "    temp_c = py_ht.get_temp()\n",
    "    # convert to F\n",
    "    temp_f = temp_c * (9/5) + 32\n",
    "    # append temp_f to temps\n",
    "    temps.append(temp_f)\n",
    "print(temps)"
   ]
  },
  {
   "cell_type": "markdown",
   "metadata": {},
   "source": [
    "Now that we have all 5 temperature values stored in an array, let's average them! To average the values, we want to sum them up and then divide the total number of values."
   ]
  },
  {
   "cell_type": "code",
   "execution_count": 8,
   "metadata": {},
   "outputs": [
    {
     "name": "stdout",
     "output_type": "stream",
     "text": [
      "average_sum: 381.3295364379883\n",
      "average: 76.26590728759766\n"
     ]
    }
   ],
   "source": [
    "average_sum = 0\n",
    "# sum up all the values\n",
    "for temp in temps:\n",
    "    average_sum = average_sum + temp\n",
    "print(f\"average_sum: {average_sum}\")\n",
    "average = average_sum / len(temps)\n",
    "print(f\"average: {average}\")"
   ]
  }
 ],
 "metadata": {
  "kernelspec": {
   "display_name": "Python 3",
   "language": "python",
   "name": "python3"
  },
  "language_info": {
   "codemirror_mode": {
    "name": "ipython",
    "version": 3
   },
   "file_extension": ".py",
   "mimetype": "text/x-python",
   "name": "python",
   "nbconvert_exporter": "python",
   "pygments_lexer": "ipython3",
   "version": "3.6.5"
  }
 },
 "nbformat": 4,
 "nbformat_minor": 4
}
