{
 "cells": [
  {
   "cell_type": "markdown",
   "metadata": {},
   "source": [
    "# Interacting with the PYNQ Board Buttons\n",
    "\n",
    "## Contents\n",
    "\n",
    "* [Buttons](#Buttons)\n",
    "* [Reading from buttons](#Reading-from-switches-and-buttons)\n",
    "* [Reacting to button presses](#Reacting-to-button-presses)\n",
    "* [Summary](#Summary)\n"
   ]
  },
  {
   "cell_type": "markdown",
   "metadata": {},
   "source": [
    "## Buttons\n",
    "\n",
    "The PYNQ board has four push buttons (`BTN0` to `BTN3`)\n",
    "  \n",
    "Have a look at the board and try to identify these buttons."
   ]
  },
  {
   "cell_type": "markdown",
   "metadata": {},
   "source": [
    "Note that there are additional push-buttons the board, but these are used for specific functions (a reset button, etc.) and are not user accessible.\n",
    "\n",
    "These inputs and outputs can be controlled directly from Python. To demonstrate this, we first need get a Python representation of the board — let's call it `board`."
   ]
  },
  {
   "cell_type": "code",
   "execution_count": null,
   "metadata": {},
   "outputs": [],
   "source": [
    "from pynq.overlays.base import BaseOverlay\n",
    "\n",
    "board = BaseOverlay(\"base.bit\")"
   ]
  },
  {
   "cell_type": "markdown",
   "metadata": {},
   "source": [
    "This `board` value has lots of different properties associated with it. The names for the buttons, switches, and LEDs are shown below:\n",
    "\n",
    "![](./data/z2_peripherals.svg)\n"
   ]
  },
  {
   "cell_type": "markdown",
   "metadata": {},
   "source": [
    "## Reading from buttons\n",
    "\n",
    "Next, we can start interacting with the LEDs using the and buttons. We can use `.read()` to get the value of a button.\n",
    "\n",
    "First, let's make sure that all of the LEDs off. Instead of writing 4 lines (one for each LED), let's use a `for` loop to turn off all the LEDs."
   ]
  },
  {
   "cell_type": "code",
   "execution_count": null,
   "metadata": {},
   "outputs": [],
   "source": [
    "for led_num in range(board.leds.length):\n",
    "    board.leds[led_num].off()"
   ]
  },
  {
   "cell_type": "markdown",
   "metadata": {},
   "source": [
    "Now let's read each button, and if the button is pressed down, the corresponding LED should be toggled. You can execute this cell a few times while pressing different buttons. Note that you'll need to hold these buttons down before clicking \"Run\"."
   ]
  },
  {
   "cell_type": "code",
   "execution_count": null,
   "metadata": {},
   "outputs": [],
   "source": [
    "for led_num in range(board.buttons.length):\n",
    "    if board.buttons[led_num].read():\n",
    "        board.leds[led_num].toggle()"
   ]
  },
  {
   "cell_type": "markdown",
   "metadata": {},
   "source": [
    "## Reacting to button presses\n",
    "\n",
    "So far we have only read from the buttons once when we execute a cell. Because of this, you've probably been looking pretty silly trying to hold down buttons while also managing to click `Run`!\n",
    "\n",
    "This is a little awkward, so what can we do about it? Let's start looking at how to dynamically react to button presses as soon as they happen. We'll start off with a simple technique called \"polling\" to help us check for button presses.\n",
    "\n",
    "Previously, we used `.read()` to get immediate feedback from the button — either a 0 or a 1. To react to a button press, we'll use `.wait_for_value(...)`. This essentially says: stop what you're doing and *wait* until the button is pressed or released, depending on the number we supply. Let's see this in action by waiting for `BTN0` to be pressed, printing a message, and then waiting for `BTN0` to be released."
   ]
  },
  {
   "cell_type": "code",
   "execution_count": null,
   "metadata": {},
   "outputs": [],
   "source": [
    "btn0 = board.buttons[0]\n",
    "\n",
    "print('Waiting for BTN0 to be pressed...')\n",
    "\n",
    "btn0.wait_for_value(1)\n",
    "print('BTN0 has been pressed  😄')\n",
    "\n",
    "btn0.wait_for_value(0)\n",
    "print('BTN0 has been released 😔')"
   ]
  },
  {
   "cell_type": "markdown",
   "metadata": {},
   "source": [
    "We can put this code in a loop if we wanted to keep checking for more button presses. Let's try making this run forever, using the condition `while True`."
   ]
  },
  {
   "cell_type": "code",
   "execution_count": null,
   "metadata": {},
   "outputs": [],
   "source": [
    "while True:\n",
    "    btn0.wait_for_value(1)\n",
    "    print('BTN0 has been pressed  😄')\n",
    "\n",
    "    btn0.wait_for_value(0)\n",
    "    print('BTN0 has been released 😔')"
   ]
  },
  {
   "cell_type": "markdown",
   "metadata": {},
   "source": [
    "We can now press and release the button many times and react to it with our code. We did tell Python to run this *forever* though... so this cell is still running! Only one cell can run at a time, so we will need to stop this before moving on. Stop this cell with the stop button (⏹️) in the toolbar.\n",
    "\n",
    "And don't panic! When we stop the cell, there will be a big, red, scary error. This is just letting us know that something (us!) has interrupted the cell. Let's try to hide this message using Python's error handling.\n",
    "\n",
    "We want to **try** running our loop forever, **except** when we get a `KeyboardInterrupt` event that comes from the stop button."
   ]
  },
  {
   "cell_type": "code",
   "execution_count": null,
   "metadata": {},
   "outputs": [],
   "source": [
    "try:\n",
    "    while True:\n",
    "        btn0.wait_for_value(1)\n",
    "        print('BTN0 has been pressed  😄')\n",
    "\n",
    "        btn0.wait_for_value(0)\n",
    "        print('BTN0 has been released 😔')\n",
    "    \n",
    "except KeyboardInterrupt:\n",
    "    print ('Stopping the loop politely')"
   ]
  },
  {
   "cell_type": "markdown",
   "metadata": {},
   "source": [
    "Neat! We've managed to hide the error message and exit the loop cleanly.\n",
    "\n",
    "We've shown you a simple way to react to button events now. This approach will be enough for most needs, although there are a few restrictions:\n",
    "\n",
    "  1. We can't do anything else in Python while we wait for a button to change value\n",
    "  2. We can only wait for one button at a time\n",
    "\n",
    "If you have time and are feeling brave, take a look at [a more complex example](https://github.com/Xilinx/PYNQ_Bootcamp/blob/master/extra/ButtonsWithAsyncio.ipynb) that doesn't have these restrictions. This uses asynchronous programming, which can get a little mind-bending if you stare at it for too long."
   ]
  },
  {
   "cell_type": "markdown",
   "metadata": {},
   "source": [
    "## Summary\n",
    "\n",
    "Let's just summarize what we've covered:\n",
    "   \n",
    "   + Reading input from buttons\n",
    "\n",
    "### Bonus Challenges\n",
    "\n",
    "Here is an optional challengs for you to work through:\n",
    "\n",
    "  * Have a look at [a more powerful way](https://github.com/Xilinx/PYNQ_Bootcamp/blob/master/extra/ButtonsWithAsyncio.ipynb) of listening for button events (This is pretty advanced!)\n",
    "  \n",
    "----\n",
    "\n",
    "[Back to the top](#Contents)\n",
    "\n",
    "----"
   ]
  }
 ],
 "metadata": {
  "celltoolbar": "Raw Cell Format",
  "kernelspec": {
   "display_name": "Python 3",
   "language": "python",
   "name": "python3"
  },
  "language_info": {
   "codemirror_mode": {
    "name": "ipython",
    "version": 3
   },
   "file_extension": ".py",
   "mimetype": "text/x-python",
   "name": "python",
   "nbconvert_exporter": "python",
   "pygments_lexer": "ipython3",
   "version": "3.8.5"
  }
 },
 "nbformat": 4,
 "nbformat_minor": 4
}
